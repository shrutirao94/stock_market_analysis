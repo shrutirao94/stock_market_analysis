{
 "cells": [
  {
   "cell_type": "code",
   "execution_count": 26,
   "metadata": {
    "collapsed": false
   },
   "outputs": [],
   "source": [
    "import pandas as pd\n",
    "import numpy as np\n",
    "from pandas import Series,DataFrame\n",
    "import seaborn as sns\n",
    "import matplotlib.pyplot as plt\n",
    "sns.set_style('whitegrid')\n",
    "%matplotlib inline\n"
   ]
  },
  {
   "cell_type": "code",
   "execution_count": 27,
   "metadata": {
    "collapsed": false
   },
   "outputs": [],
   "source": [
    "from pandas_datareader import data"
   ]
  },
  {
   "cell_type": "code",
   "execution_count": 28,
   "metadata": {
    "collapsed": false
   },
   "outputs": [],
   "source": [
    "from datetime import datetime"
   ]
  },
  {
   "cell_type": "code",
   "execution_count": 29,
   "metadata": {
    "collapsed": false
   },
   "outputs": [],
   "source": [
    "from __future__ import division"
   ]
  },
  {
   "cell_type": "code",
   "execution_count": 30,
   "metadata": {
    "collapsed": true
   },
   "outputs": [],
   "source": [
    "tech_list = ['AAPL', 'GOOG','MSFT','AMZN']\n",
    "\n",
    "#Set up Start and End times for data grab\n",
    "end = datetime.now()\n",
    "start = datetime(end.year - 1, end.month, end.day)\n",
    "\n",
    "# Loop to grab data from Yahoo stocks and setting into DataFrame\n",
    "\n",
    "for stock in tech_list:\n",
    "    globals()[stock] = DataReader(stock, 'yahoo', start, end)"
   ]
  },
  {
   "cell_type": "code",
   "execution_count": 31,
   "metadata": {
    "collapsed": false
   },
   "outputs": [
    {
     "data": {
      "text/html": [
       "<div>\n",
       "<table border=\"1\" class=\"dataframe\">\n",
       "  <thead>\n",
       "    <tr style=\"text-align: right;\">\n",
       "      <th></th>\n",
       "      <th>Open</th>\n",
       "      <th>High</th>\n",
       "      <th>Low</th>\n",
       "      <th>Close</th>\n",
       "      <th>Volume</th>\n",
       "      <th>Adj Close</th>\n",
       "    </tr>\n",
       "  </thead>\n",
       "  <tbody>\n",
       "    <tr>\n",
       "      <th>count</th>\n",
       "      <td>253.000000</td>\n",
       "      <td>253.000000</td>\n",
       "      <td>253.000000</td>\n",
       "      <td>253.000000</td>\n",
       "      <td>2.530000e+02</td>\n",
       "      <td>253.000000</td>\n",
       "    </tr>\n",
       "    <tr>\n",
       "      <th>mean</th>\n",
       "      <td>118.415099</td>\n",
       "      <td>119.497589</td>\n",
       "      <td>117.100830</td>\n",
       "      <td>118.283794</td>\n",
       "      <td>5.164448e+07</td>\n",
       "      <td>116.881787</td>\n",
       "    </tr>\n",
       "    <tr>\n",
       "      <th>std</th>\n",
       "      <td>10.302383</td>\n",
       "      <td>10.100739</td>\n",
       "      <td>10.488778</td>\n",
       "      <td>10.284116</td>\n",
       "      <td>2.073487e+07</td>\n",
       "      <td>9.705551</td>\n",
       "    </tr>\n",
       "    <tr>\n",
       "      <th>min</th>\n",
       "      <td>93.129997</td>\n",
       "      <td>94.519997</td>\n",
       "      <td>92.000000</td>\n",
       "      <td>93.419998</td>\n",
       "      <td>1.304640e+07</td>\n",
       "      <td>92.915814</td>\n",
       "    </tr>\n",
       "    <tr>\n",
       "      <th>25%</th>\n",
       "      <td>111.940002</td>\n",
       "      <td>112.800003</td>\n",
       "      <td>110.320000</td>\n",
       "      <td>112.309998</td>\n",
       "      <td>3.735720e+07</td>\n",
       "      <td>111.227747</td>\n",
       "    </tr>\n",
       "    <tr>\n",
       "      <th>50%</th>\n",
       "      <td>120.790001</td>\n",
       "      <td>121.220001</td>\n",
       "      <td>118.849998</td>\n",
       "      <td>119.720001</td>\n",
       "      <td>4.705430e+07</td>\n",
       "      <td>118.566345</td>\n",
       "    </tr>\n",
       "    <tr>\n",
       "      <th>75%</th>\n",
       "      <td>127.120003</td>\n",
       "      <td>127.879997</td>\n",
       "      <td>125.980003</td>\n",
       "      <td>126.910004</td>\n",
       "      <td>5.936690e+07</td>\n",
       "      <td>124.815072</td>\n",
       "    </tr>\n",
       "    <tr>\n",
       "      <th>max</th>\n",
       "      <td>134.460007</td>\n",
       "      <td>134.539993</td>\n",
       "      <td>131.399994</td>\n",
       "      <td>133.000000</td>\n",
       "      <td>1.622063e+08</td>\n",
       "      <td>130.671320</td>\n",
       "    </tr>\n",
       "  </tbody>\n",
       "</table>\n",
       "</div>"
      ],
      "text/plain": [
       "             Open        High         Low       Close        Volume  \\\n",
       "count  253.000000  253.000000  253.000000  253.000000  2.530000e+02   \n",
       "mean   118.415099  119.497589  117.100830  118.283794  5.164448e+07   \n",
       "std     10.302383   10.100739   10.488778   10.284116  2.073487e+07   \n",
       "min     93.129997   94.519997   92.000000   93.419998  1.304640e+07   \n",
       "25%    111.940002  112.800003  110.320000  112.309998  3.735720e+07   \n",
       "50%    120.790001  121.220001  118.849998  119.720001  4.705430e+07   \n",
       "75%    127.120003  127.879997  125.980003  126.910004  5.936690e+07   \n",
       "max    134.460007  134.539993  131.399994  133.000000  1.622063e+08   \n",
       "\n",
       "        Adj Close  \n",
       "count  253.000000  \n",
       "mean   116.881787  \n",
       "std      9.705551  \n",
       "min     92.915814  \n",
       "25%    111.227747  \n",
       "50%    118.566345  \n",
       "75%    124.815072  \n",
       "max    130.671320  "
      ]
     },
     "execution_count": 31,
     "metadata": {},
     "output_type": "execute_result"
    }
   ],
   "source": [
    "#Summary stats:\n",
    "AAPL.describe()"
   ]
  },
  {
   "cell_type": "code",
   "execution_count": 32,
   "metadata": {
    "collapsed": false
   },
   "outputs": [
    {
     "data": {
      "text/html": [
       "<div>\n",
       "<table border=\"1\" class=\"dataframe\">\n",
       "  <thead>\n",
       "    <tr style=\"text-align: right;\">\n",
       "      <th></th>\n",
       "      <th>Open</th>\n",
       "      <th>High</th>\n",
       "      <th>Low</th>\n",
       "      <th>Close</th>\n",
       "      <th>Volume</th>\n",
       "      <th>Adj Close</th>\n",
       "    </tr>\n",
       "  </thead>\n",
       "  <tbody>\n",
       "    <tr>\n",
       "      <th>count</th>\n",
       "      <td>253.000000</td>\n",
       "      <td>253.000000</td>\n",
       "      <td>253.000000</td>\n",
       "      <td>253.000000</td>\n",
       "      <td>253.000000</td>\n",
       "      <td>253.000000</td>\n",
       "    </tr>\n",
       "    <tr>\n",
       "      <th>mean</th>\n",
       "      <td>506.113163</td>\n",
       "      <td>511.638379</td>\n",
       "      <td>499.800119</td>\n",
       "      <td>505.661701</td>\n",
       "      <td>4008147.430830</td>\n",
       "      <td>505.661701</td>\n",
       "    </tr>\n",
       "    <tr>\n",
       "      <th>std</th>\n",
       "      <td>100.230929</td>\n",
       "      <td>101.378811</td>\n",
       "      <td>97.760950</td>\n",
       "      <td>99.666927</td>\n",
       "      <td>2408049.966713</td>\n",
       "      <td>99.666927</td>\n",
       "    </tr>\n",
       "    <tr>\n",
       "      <th>min</th>\n",
       "      <td>367.109985</td>\n",
       "      <td>371.399994</td>\n",
       "      <td>365.649994</td>\n",
       "      <td>366.369995</td>\n",
       "      <td>1091200.000000</td>\n",
       "      <td>366.369995</td>\n",
       "    </tr>\n",
       "    <tr>\n",
       "      <th>25%</th>\n",
       "      <td>426.750000</td>\n",
       "      <td>430.399994</td>\n",
       "      <td>422.850006</td>\n",
       "      <td>426.570007</td>\n",
       "      <td>2581700.000000</td>\n",
       "      <td>426.570007</td>\n",
       "    </tr>\n",
       "    <tr>\n",
       "      <th>50%</th>\n",
       "      <td>508.690002</td>\n",
       "      <td>515.840027</td>\n",
       "      <td>499.190002</td>\n",
       "      <td>504.720001</td>\n",
       "      <td>3475100.000000</td>\n",
       "      <td>504.720001</td>\n",
       "    </tr>\n",
       "    <tr>\n",
       "      <th>75%</th>\n",
       "      <td>578.150024</td>\n",
       "      <td>588.809998</td>\n",
       "      <td>569.880005</td>\n",
       "      <td>575.020020</td>\n",
       "      <td>4597800.000000</td>\n",
       "      <td>575.020020</td>\n",
       "    </tr>\n",
       "    <tr>\n",
       "      <th>max</th>\n",
       "      <td>691.890015</td>\n",
       "      <td>696.440002</td>\n",
       "      <td>686.380005</td>\n",
       "      <td>693.969971</td>\n",
       "      <td>21909400.000000</td>\n",
       "      <td>693.969971</td>\n",
       "    </tr>\n",
       "  </tbody>\n",
       "</table>\n",
       "</div>"
      ],
      "text/plain": [
       "             Open        High         Low       Close           Volume  \\\n",
       "count  253.000000  253.000000  253.000000  253.000000       253.000000   \n",
       "mean   506.113163  511.638379  499.800119  505.661701   4008147.430830   \n",
       "std    100.230929  101.378811   97.760950   99.666927   2408049.966713   \n",
       "min    367.109985  371.399994  365.649994  366.369995   1091200.000000   \n",
       "25%    426.750000  430.399994  422.850006  426.570007   2581700.000000   \n",
       "50%    508.690002  515.840027  499.190002  504.720001   3475100.000000   \n",
       "75%    578.150024  588.809998  569.880005  575.020020   4597800.000000   \n",
       "max    691.890015  696.440002  686.380005  693.969971  21909400.000000   \n",
       "\n",
       "        Adj Close  \n",
       "count  253.000000  \n",
       "mean   505.661701  \n",
       "std     99.666927  \n",
       "min    366.369995  \n",
       "25%    426.570007  \n",
       "50%    504.720001  \n",
       "75%    575.020020  \n",
       "max    693.969971  "
      ]
     },
     "execution_count": 32,
     "metadata": {},
     "output_type": "execute_result"
    }
   ],
   "source": [
    "AMZN.describe()"
   ]
  },
  {
   "cell_type": "code",
   "execution_count": 33,
   "metadata": {
    "collapsed": false
   },
   "outputs": [
    {
     "data": {
      "text/html": [
       "<div>\n",
       "<table border=\"1\" class=\"dataframe\">\n",
       "  <thead>\n",
       "    <tr style=\"text-align: right;\">\n",
       "      <th></th>\n",
       "      <th>Open</th>\n",
       "      <th>High</th>\n",
       "      <th>Low</th>\n",
       "      <th>Close</th>\n",
       "      <th>Volume</th>\n",
       "      <th>Adj Close</th>\n",
       "    </tr>\n",
       "  </thead>\n",
       "  <tbody>\n",
       "    <tr>\n",
       "      <th>count</th>\n",
       "      <td>253.000000</td>\n",
       "      <td>253.000000</td>\n",
       "      <td>253.000000</td>\n",
       "      <td>253.000000</td>\n",
       "      <td>253.000000</td>\n",
       "      <td>253.000000</td>\n",
       "    </tr>\n",
       "    <tr>\n",
       "      <th>mean</th>\n",
       "      <td>624.409539</td>\n",
       "      <td>630.286196</td>\n",
       "      <td>617.706306</td>\n",
       "      <td>624.042991</td>\n",
       "      <td>2154666.007905</td>\n",
       "      <td>624.042991</td>\n",
       "    </tr>\n",
       "    <tr>\n",
       "      <th>std</th>\n",
       "      <td>82.872514</td>\n",
       "      <td>84.131739</td>\n",
       "      <td>80.836255</td>\n",
       "      <td>82.320513</td>\n",
       "      <td>1158603.560134</td>\n",
       "      <td>82.320513</td>\n",
       "    </tr>\n",
       "    <tr>\n",
       "      <th>min</th>\n",
       "      <td>519.500000</td>\n",
       "      <td>522.734009</td>\n",
       "      <td>515.179993</td>\n",
       "      <td>516.830017</td>\n",
       "      <td>527200.000000</td>\n",
       "      <td>516.830017</td>\n",
       "    </tr>\n",
       "    <tr>\n",
       "      <th>25%</th>\n",
       "      <td>539.640015</td>\n",
       "      <td>543.840027</td>\n",
       "      <td>536.002395</td>\n",
       "      <td>540.309998</td>\n",
       "      <td>1491000.000000</td>\n",
       "      <td>540.309998</td>\n",
       "    </tr>\n",
       "    <tr>\n",
       "      <th>50%</th>\n",
       "      <td>622.049988</td>\n",
       "      <td>628.929993</td>\n",
       "      <td>615.429993</td>\n",
       "      <td>623.239990</td>\n",
       "      <td>1842300.000000</td>\n",
       "      <td>623.239990</td>\n",
       "    </tr>\n",
       "    <tr>\n",
       "      <th>75%</th>\n",
       "      <td>707.380005</td>\n",
       "      <td>718.260010</td>\n",
       "      <td>701.260010</td>\n",
       "      <td>708.010010</td>\n",
       "      <td>2318800.000000</td>\n",
       "      <td>708.010010</td>\n",
       "    </tr>\n",
       "    <tr>\n",
       "      <th>max</th>\n",
       "      <td>784.500000</td>\n",
       "      <td>789.869995</td>\n",
       "      <td>766.900024</td>\n",
       "      <td>776.599976</td>\n",
       "      <td>11164900.000000</td>\n",
       "      <td>776.599976</td>\n",
       "    </tr>\n",
       "  </tbody>\n",
       "</table>\n",
       "</div>"
      ],
      "text/plain": [
       "             Open        High         Low       Close           Volume  \\\n",
       "count  253.000000  253.000000  253.000000  253.000000       253.000000   \n",
       "mean   624.409539  630.286196  617.706306  624.042991   2154666.007905   \n",
       "std     82.872514   84.131739   80.836255   82.320513   1158603.560134   \n",
       "min    519.500000  522.734009  515.179993  516.830017    527200.000000   \n",
       "25%    539.640015  543.840027  536.002395  540.309998   1491000.000000   \n",
       "50%    622.049988  628.929993  615.429993  623.239990   1842300.000000   \n",
       "75%    707.380005  718.260010  701.260010  708.010010   2318800.000000   \n",
       "max    784.500000  789.869995  766.900024  776.599976  11164900.000000   \n",
       "\n",
       "        Adj Close  \n",
       "count  253.000000  \n",
       "mean   624.042991  \n",
       "std     82.320513  \n",
       "min    516.830017  \n",
       "25%    540.309998  \n",
       "50%    623.239990  \n",
       "75%    708.010010  \n",
       "max    776.599976  "
      ]
     },
     "execution_count": 33,
     "metadata": {},
     "output_type": "execute_result"
    }
   ],
   "source": [
    "GOOG.describe()"
   ]
  },
  {
   "cell_type": "code",
   "execution_count": 34,
   "metadata": {
    "collapsed": false
   },
   "outputs": [
    {
     "data": {
      "text/html": [
       "<div>\n",
       "<table border=\"1\" class=\"dataframe\">\n",
       "  <thead>\n",
       "    <tr style=\"text-align: right;\">\n",
       "      <th></th>\n",
       "      <th>Open</th>\n",
       "      <th>High</th>\n",
       "      <th>Low</th>\n",
       "      <th>Close</th>\n",
       "      <th>Volume</th>\n",
       "      <th>Adj Close</th>\n",
       "    </tr>\n",
       "  </thead>\n",
       "  <tbody>\n",
       "    <tr>\n",
       "      <th>count</th>\n",
       "      <td>253.000000</td>\n",
       "      <td>253.000000</td>\n",
       "      <td>253.000000</td>\n",
       "      <td>253.000000</td>\n",
       "      <td>2.530000e+02</td>\n",
       "      <td>253.000000</td>\n",
       "    </tr>\n",
       "    <tr>\n",
       "      <th>mean</th>\n",
       "      <td>47.477628</td>\n",
       "      <td>47.972490</td>\n",
       "      <td>47.037273</td>\n",
       "      <td>47.521621</td>\n",
       "      <td>3.645065e+07</td>\n",
       "      <td>47.059228</td>\n",
       "    </tr>\n",
       "    <tr>\n",
       "      <th>std</th>\n",
       "      <td>4.534663</td>\n",
       "      <td>4.557687</td>\n",
       "      <td>4.446840</td>\n",
       "      <td>4.502369</td>\n",
       "      <td>1.545511e+07</td>\n",
       "      <td>4.735542</td>\n",
       "    </tr>\n",
       "    <tr>\n",
       "      <th>min</th>\n",
       "      <td>40.340000</td>\n",
       "      <td>40.740002</td>\n",
       "      <td>39.720001</td>\n",
       "      <td>40.290001</td>\n",
       "      <td>9.000500e+06</td>\n",
       "      <td>39.501355</td>\n",
       "    </tr>\n",
       "    <tr>\n",
       "      <th>25%</th>\n",
       "      <td>43.669998</td>\n",
       "      <td>44.150002</td>\n",
       "      <td>43.320000</td>\n",
       "      <td>43.889999</td>\n",
       "      <td>2.736800e+07</td>\n",
       "      <td>43.226973</td>\n",
       "    </tr>\n",
       "    <tr>\n",
       "      <th>50%</th>\n",
       "      <td>46.650002</td>\n",
       "      <td>47.090000</td>\n",
       "      <td>46.220001</td>\n",
       "      <td>46.720001</td>\n",
       "      <td>3.265830e+07</td>\n",
       "      <td>46.122917</td>\n",
       "    </tr>\n",
       "    <tr>\n",
       "      <th>75%</th>\n",
       "      <td>51.939999</td>\n",
       "      <td>52.439999</td>\n",
       "      <td>51.259998</td>\n",
       "      <td>52.000000</td>\n",
       "      <td>3.977790e+07</td>\n",
       "      <td>52.000000</td>\n",
       "    </tr>\n",
       "    <tr>\n",
       "      <th>max</th>\n",
       "      <td>56.470001</td>\n",
       "      <td>56.849998</td>\n",
       "      <td>56.290001</td>\n",
       "      <td>56.549999</td>\n",
       "      <td>1.352271e+08</td>\n",
       "      <td>56.549999</td>\n",
       "    </tr>\n",
       "  </tbody>\n",
       "</table>\n",
       "</div>"
      ],
      "text/plain": [
       "             Open        High         Low       Close        Volume  \\\n",
       "count  253.000000  253.000000  253.000000  253.000000  2.530000e+02   \n",
       "mean    47.477628   47.972490   47.037273   47.521621  3.645065e+07   \n",
       "std      4.534663    4.557687    4.446840    4.502369  1.545511e+07   \n",
       "min     40.340000   40.740002   39.720001   40.290001  9.000500e+06   \n",
       "25%     43.669998   44.150002   43.320000   43.889999  2.736800e+07   \n",
       "50%     46.650002   47.090000   46.220001   46.720001  3.265830e+07   \n",
       "75%     51.939999   52.439999   51.259998   52.000000  3.977790e+07   \n",
       "max     56.470001   56.849998   56.290001   56.549999  1.352271e+08   \n",
       "\n",
       "        Adj Close  \n",
       "count  253.000000  \n",
       "mean    47.059228  \n",
       "std      4.735542  \n",
       "min     39.501355  \n",
       "25%     43.226973  \n",
       "50%     46.122917  \n",
       "75%     52.000000  \n",
       "max     56.549999  "
      ]
     },
     "execution_count": 34,
     "metadata": {},
     "output_type": "execute_result"
    }
   ],
   "source": [
    "MSFT.describe()"
   ]
  },
  {
   "cell_type": "code",
   "execution_count": 35,
   "metadata": {
    "collapsed": false
   },
   "outputs": [
    {
     "data": {
      "text/plain": [
       "<matplotlib.axes._subplots.AxesSubplot at 0x10b9b9950>"
      ]
     },
     "execution_count": 35,
     "metadata": {},
     "output_type": "execute_result"
    },
    {
     "data": {
      "image/png": "[encoded data removed]",
      "text/plain": [
       "<matplotlib.figure.Figure at 0x10b9b9350>"
      ]
     },
     "metadata": {},
     "output_type": "display_data"
    }
   ],
   "source": [
    "#Lets look at the graph of the volume and closing stock price for Apple\n",
    "AAPL['Adj Close'].plot(legend = True, figsize =(10,4))"
   ]
  },
  {
   "cell_type": "code",
   "execution_count": 41,
   "metadata": {
    "collapsed": false
   },
   "outputs": [
    {
     "data": {
      "text/plain": [
       "<matplotlib.axes._subplots.AxesSubplot at 0x10c6ccb10>"
      ]
     },
     "execution_count": 41,
     "metadata": {},
     "output_type": "execute_result"
    },
    {
     "data": {
      "image/png": "[encoded data removed]",
      "text/plain": [
       "<matplotlib.figure.Figure at 0x10c683990>"
      ]
     },
     "metadata": {},
     "output_type": "display_data"
    }
   ],
   "source": [
    "#Now the total volume of stock being traded each day \n",
    "AAPL['Volume'].plot(legend = True, figsize = (10,5))"
   ]
  },
  {
   "cell_type": "code",
   "execution_count": null,
   "metadata": {
    "collapsed": true
   },
   "outputs": [],
   "source": []
  },
  {
   "cell_type": "code",
   "execution_count": null,
   "metadata": {
    "collapsed": true
   },
   "outputs": [],
   "source": []
  },
  {
   "cell_type": "code",
   "execution_count": null,
   "metadata": {
    "collapsed": true
   },
   "outputs": [],
   "source": []
  },
  {
   "cell_type": "code",
   "execution_count": null,
   "metadata": {
    "collapsed": true
   },
   "outputs": [],
   "source": []
  },
  {
   "cell_type": "code",
   "execution_count": null,
   "metadata": {
    "collapsed": true
   },
   "outputs": [],
   "source": []
  },
  {
   "cell_type": "code",
   "execution_count": null,
   "metadata": {
    "collapsed": true
   },
   "outputs": [],
   "source": []
  },
  {
   "cell_type": "code",
   "execution_count": null,
   "metadata": {
    "collapsed": true
   },
   "outputs": [],
   "source": []
  },
  {
   "cell_type": "code",
   "execution_count": null,
   "metadata": {
    "collapsed": true
   },
   "outputs": [],
   "source": []
  },
  {
   "cell_type": "code",
   "execution_count": null,
   "metadata": {
    "collapsed": true
   },
   "outputs": [],
   "source": []
  },
  {
   "cell_type": "code",
   "execution_count": null,
   "metadata": {
    "collapsed": true
   },
   "outputs": [],
   "source": []
  },
  {
   "cell_type": "code",
   "execution_count": null,
   "metadata": {
    "collapsed": true
   },
   "outputs": [],
   "source": []
  },
  {
   "cell_type": "code",
   "execution_count": null,
   "metadata": {
    "collapsed": true
   },
   "outputs": [],
   "source": []
  },
  {
   "cell_type": "code",
   "execution_count": null,
   "metadata": {
    "collapsed": true
   },
   "outputs": [],
   "source": []
  },
  {
   "cell_type": "code",
   "execution_count": null,
   "metadata": {
    "collapsed": true
   },
   "outputs": [],
   "source": []
  },
  {
   "cell_type": "code",
   "execution_count": null,
   "metadata": {
    "collapsed": true
   },
   "outputs": [],
   "source": []
  }
 ],
 "metadata": {
  "kernelspec": {
   "display_name": "Python 2",
   "language": "python",
   "name": "python2"
  },
  "language_info": {
   "codemirror_mode": {
    "name": "ipython",
    "version": 2
   },
   "file_extension": ".py",
   "mimetype": "text/x-python",
   "name": "python",
   "nbconvert_exporter": "python",
   "pygments_lexer": "ipython2",
   "version": "2.7.11"
  }
 },
 "nbformat": 4,
 "nbformat_minor": 0
}
